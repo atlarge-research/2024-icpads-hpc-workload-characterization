{
 "cells": [
  {
   "cell_type": "markdown",
   "metadata": {},
   "source": [
    "# Section 3: Data Quality and Data Integration\n",
    "\n",
    "Here, for completeness sake, we add the figures that are in the paper but not produced by code in this repository, and some other interesting figures."
   ]
  },
  {
   "cell_type": "markdown",
   "metadata": {},
   "source": [
    "Data integration: we combine job and node data by joining all job data collected by SLURM with individual timestamps collected by Prometheus. This figure was generated manually with a diagram editor.\n",
    "\n",
    "![image](plots/section_3/data-integration.png)\n",
    "\n",
    "Fig. 2: An example of the data integration process. We\n",
    "match each job record to the fine granular 30s-interval\n",
    "timestamps of the node dataset."
   ]
  },
  {
   "cell_type": "markdown",
   "metadata": {},
   "source": [
    "This plot shows an example node with very high amounts of missing values, sampled from the raw node dataset collect by Prometheus, before any data clean-up. Since we do analysis only on the cleaned version of the node dataset, with already all null values removed, we include this plot to give an insight into the quality of originally collected data. Keep in mind that this is an example node with exceptionally high amounts of missing values, in total there were only about 1.3% of the rows in the raw Prometheus logs affected by null values. However, this plot serves mainly as an example to showcase null value distribution accross timestamps.\n",
    "\n",
    "![image](plots/section_3/null_values_heatmap_r32n7.png)\n",
    "\n",
    "Null value distribution example for node r32n7.\n",
    "Prometheus attributes on the x-axis, row number on the\n",
    "y-axis (timestamps increase with row number). Null values\n",
    "show a monotonic pattern."
   ]
  }
 ],
 "metadata": {
  "language_info": {
   "name": "python"
  }
 },
 "nbformat": 4,
 "nbformat_minor": 2
}
