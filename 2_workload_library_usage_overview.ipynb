{
 "cells": [
  {
   "cell_type": "markdown",
   "metadata": {},
   "source": [
    "# Section 2: Workload Library Usage (retrieved through XALT)"
   ]
  },
  {
   "cell_type": "markdown",
   "metadata": {},
   "source": [
    "This figure was produced from XALT logs, which show how long each library has been run on the cluster nodes.\n",
    "Unfortunately, we cannot make the raw XALT logs public due to user privacy constraints.\n",
    "\n",
    "In the figure below we can see that workloads on CPU-only nodes (blue) and GPU nodes (red) all have around 5 commonly used libraries with the highest usage, showing some libraries are needed for all workloads. Besides that, library usage differs significantly for both node types. The major takeaway being that GPU-nodes have high proportions of Machine Learning (ML)libraries being used (nvidia-ml, cuda, torch, etc.). Hence, we categorize jobs run on CPU-only nodes as \"generic\" and jobs run on GPU nodes as \"ML\" in our analysis.\n",
    "\n",
    "![image](plots/section_2/xalt_library_usage_times.png) "
   ]
  }
 ],
 "metadata": {
  "kernelspec": {
   "display_name": "env",
   "language": "python",
   "name": "python3"
  },
  "language_info": {
   "codemirror_mode": {
    "name": "ipython",
    "version": 3
   },
   "file_extension": ".py",
   "mimetype": "text/x-python",
   "name": "python",
   "nbconvert_exporter": "python",
   "pygments_lexer": "ipython3",
   "version": "3.8.10"
  }
 },
 "nbformat": 4,
 "nbformat_minor": 2
}
